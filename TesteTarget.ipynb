{
  "nbformat": 4,
  "nbformat_minor": 0,
  "metadata": {
    "colab": {
      "provenance": []
    },
    "kernelspec": {
      "name": "python3",
      "display_name": "Python 3"
    },
    "language_info": {
      "name": "python"
    }
  },
  "cells": [
    {
      "cell_type": "markdown",
      "source": [
        "# Exercicio 1)"
      ],
      "metadata": {
        "id": "smHgZGjvPjsv"
      }
    },
    {
      "cell_type": "code",
      "execution_count": null,
      "metadata": {
        "colab": {
          "base_uri": "https://localhost:8080/",
          "height": 35
        },
        "id": "EKgB7WivPbrO",
        "outputId": "5a635395-db7b-44ea-b047-57be829ec3fb"
      },
      "outputs": [
        {
          "output_type": "execute_result",
          "data": {
            "text/plain": [
              "' \\nResposta: Ao final do processamento, a variavel SOMA terá o valor 91. Isso ocorre porque o laço while soma o valor de K em cada iteração, incrementado-o de 1 até atingir o valor 13. A soma de 1 a 13 é 91.\\n'"
            ],
            "application/vnd.google.colaboratory.intrinsic+json": {
              "type": "string"
            }
          },
          "metadata": {},
          "execution_count": 5
        }
      ],
      "source": [
        "\"\"\"\n",
        "Resposta: Ao final do processamento, a variavel SOMA terá o valor 91. Isso ocorre porque o laço while soma o valor de K em cada iteração, incrementado-o de 1 até atingir o valor 13. A soma de 1 a 13 é 91.\n",
        "\"\"\""
      ]
    },
    {
      "cell_type": "markdown",
      "source": [
        "# Exercicio 2)"
      ],
      "metadata": {
        "id": "qccvNUTsPq9j"
      }
    },
    {
      "cell_type": "code",
      "source": [
        "def fibonacci_sequence(n):\n",
        "    a, b = 0, 1\n",
        "    while a <= n:\n",
        "        if a == n:\n",
        "            return True\n",
        "        a, b = b, a + b\n",
        "    return False\n",
        "\n",
        "# Entrada\n",
        "numero = int(input(\"Informe um número: \"))\n",
        "\n",
        "# Verifica se o número está na sequência de Fibonacci\n",
        "if fibonacci_sequence(numero):\n",
        "    print(f\"O número {numero} pertence à sequência de Fibonacci.\")\n",
        "else:\n",
        "    print(f\"O número {numero} não pertence à sequência de Fibonacci.\")\n"
      ],
      "metadata": {
        "colab": {
          "base_uri": "https://localhost:8080/"
        },
        "id": "o47sFkFvPz8Q",
        "outputId": "b99f07f0-8482-4844-c910-907bd944ce7b"
      },
      "execution_count": null,
      "outputs": [
        {
          "output_type": "stream",
          "name": "stdout",
          "text": [
            "Informe um número: 5\n",
            "O número 5 pertence à sequência de Fibonacci.\n"
          ]
        }
      ]
    },
    {
      "cell_type": "markdown",
      "source": [
        "# Exercicio 3)"
      ],
      "metadata": {
        "id": "gkXDG0BRP5BL"
      }
    },
    {
      "cell_type": "code",
      "source": [
        "import json\n",
        "\n",
        "# Carrega os dados do JSON (exemplo simplificado)\n",
        "faturamento_mensal = [\n",
        "    1000, 2000, 3000, 0, 1500, 0, 500, 4000, 2500, 0, 0, 600, 0, 3500\n",
        "]\n",
        "\n",
        "# Remove dias sem faturamento\n",
        "faturamento_valido = [valor for valor in faturamento_mensal if valor > 0]\n",
        "\n",
        "# Calcula o menor e maior faturamento\n",
        "menor_faturamento = min(faturamento_valido)\n",
        "maior_faturamento = max(faturamento_valido)\n",
        "\n",
        "# Calcula a média mensal\n",
        "media_mensal = sum(faturamento_valido) / len(faturamento_valido)\n",
        "\n",
        "# Conta o número de dias acima da média\n",
        "dias_acima_da_media = sum(1 for valor in faturamento_valido if valor > media_mensal)\n",
        "\n",
        "# Exibe os resultados\n",
        "print(f\"Menor faturamento: R${menor_faturamento}\")\n",
        "print(f\"Maior faturamento: R${maior_faturamento}\")\n",
        "print(f\"Dias acima da média: {dias_acima_da_media}\")\n"
      ],
      "metadata": {
        "colab": {
          "base_uri": "https://localhost:8080/"
        },
        "id": "KLY8YCSrP334",
        "outputId": "d80ec63d-661c-4924-9bc0-d3110385a7fc"
      },
      "execution_count": null,
      "outputs": [
        {
          "output_type": "stream",
          "name": "stdout",
          "text": [
            "Menor faturamento: R$500\n",
            "Maior faturamento: R$4000\n",
            "Dias acima da média: 4\n"
          ]
        }
      ]
    },
    {
      "cell_type": "markdown",
      "source": [
        "# Exercicio 4)"
      ],
      "metadata": {
        "id": "Y2NRiV2PQCeG"
      }
    },
    {
      "cell_type": "code",
      "source": [
        "# Faturamento por estado\n",
        "faturamento = {\n",
        "    'SP': 67836.43,\n",
        "    'RJ': 36678.66,\n",
        "    'MG': 29229.88,\n",
        "    'ES': 27165.48,\n",
        "    'Outros': 19849.53\n",
        "}\n",
        "\n",
        "# Valor total de faturamento\n",
        "faturamento_total = sum(faturamento.values())\n",
        "\n",
        "# Calcula o percentual de cada estado\n",
        "for estado, valor in faturamento.items():\n",
        "    percentual = (valor / faturamento_total) * 100\n",
        "    print(f\"{estado}: {percentual:.2f}%\")\n"
      ],
      "metadata": {
        "colab": {
          "base_uri": "https://localhost:8080/"
        },
        "id": "HJgAKfQGQEvn",
        "outputId": "15ef7111-602c-4d31-eb71-dd66f0d39070"
      },
      "execution_count": null,
      "outputs": [
        {
          "output_type": "stream",
          "name": "stdout",
          "text": [
            "SP: 37.53%\n",
            "RJ: 20.29%\n",
            "MG: 16.17%\n",
            "ES: 15.03%\n",
            "Outros: 10.98%\n"
          ]
        }
      ]
    },
    {
      "cell_type": "markdown",
      "source": [
        "# Exercicio 5)"
      ],
      "metadata": {
        "id": "zn0jA7HVQFcg"
      }
    },
    {
      "cell_type": "code",
      "source": [
        "def inverter_string(texto):\n",
        "    string_invertida = \"\"\n",
        "    for i in range(len(texto) - 1, -1, -1):\n",
        "        string_invertida += texto[i]\n",
        "    return string_invertida\n",
        "\n",
        "# Entrada de exemplo\n",
        "texto = input(\"Informe uma string: \")\n",
        "\n",
        "# Inverte a string\n",
        "resultado = inverter_string(texto)\n",
        "\n",
        "# Exibe a string invertida\n",
        "print(f\"String invertida: {resultado}\")\n"
      ],
      "metadata": {
        "colab": {
          "base_uri": "https://localhost:8080/"
        },
        "id": "ikh4wma3QHy5",
        "outputId": "0f15e86d-5b23-460e-ebf5-e59b401419bb"
      },
      "execution_count": null,
      "outputs": [
        {
          "output_type": "stream",
          "name": "stdout",
          "text": [
            "Informe uma string: abab\n",
            "String invertida: baba\n"
          ]
        }
      ]
    }
  ]
}